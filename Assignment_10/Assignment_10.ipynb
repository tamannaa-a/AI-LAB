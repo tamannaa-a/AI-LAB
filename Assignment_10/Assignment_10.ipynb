{
 "cells": [
  {
   "cell_type": "markdown",
   "metadata": {},
   "source": [
    "# Tic-Tac-Toe Game in Python\n",
    "# Name: Tamanna Vaikkath  \n",
    "# PRN: 22070521094"
   ]
  },
  {
   "cell_type": "markdown",
   "metadata": {},
   "source": [
    "This notebook implements a simple two-player Tic-Tac-Toe game in the terminal. Players take turns to input their move, and the program checks for win/draw conditions after every turn."
   ]
  },
  {
   "cell_type": "code",
   "execution_count": null,
   "metadata": {},
   "outputs": [],
   "source": [
    "# Initialize the board\n",
    "board = [' ' for _ in range(9)]"
   ]
  },
  {
   "cell_type": "code",
   "execution_count": null,
   "metadata": {},
   "outputs": [],
   "source": [
    "# Function to print the board\n",
    "def print_board():\n",
    "    print()\n",
    "    print(f\" {board[0]} | {board[1]} | {board[2]} \")\n",
    "    print(\"---|---|---\")\n",
    "    print(f\" {board[3]} | {board[4]} | {board[5]} \")\n",
    "    print(\"---|---|---\")\n",
    "    print(f\" {board[6]} | {board[7]} | {board[8]} \")\n",
    "    print()"
   ]
  },
  {
   "cell_type": "code",
   "execution_count": null,
   "metadata": {},
   "outputs": [],
   "source": [
    "# Function to check win\n",
    "def check_win(player):\n",
    "    win_conditions = [\n",
    "        (0, 1, 2), (3, 4, 5), (6, 7, 8),  # rows\n",
    "        (0, 3, 6), (1, 4, 7), (2, 5, 8),  # columns\n",
    "        (0, 4, 8), (2, 4, 6)              # diagonals\n",
    "    ]\n",
    "    for a, b, c in win_conditions:\n",
    "        if board[a] == board[b] == board[c] == player:\n",
    "            return True\n",
    "    return False"
   ]
  },
  {
   "cell_type": "code",
   "execution_count": null,
   "metadata": {},
   "outputs": [],
   "source": [
    "# Function to check draw\n",
    "def check_draw():\n",
    "    return ' ' not in board"
   ]
  },
  {
   "cell_type": "code",
   "execution_count": null,
   "metadata": {},
   "outputs": [],
   "source": [
    "# Main game loop\n",
    "current_player = 'X'\n",
    "game_over = False\n",
    "\n",
    "print_board()\n",
    "while not game_over:\n",
    "    try:\n",
    "        move = int(input(f\"Player {current_player}, choose your position (1-9): \")) - 1\n",
    "        if board[move] == ' ':\n",
    "            board[move] = current_player\n",
    "            print_board()\n",
    "            if check_win(current_player):\n",
    "                print(f\" Player {current_player} wins!\")\n",
    "                game_over = True\n",
    "            elif check_draw():\n",
    "                print(\"It's a draw!\")\n",
    "                game_over = True\n",
    "            else:\n",
    "                current_player = 'O' if current_player == 'X' else 'X'\n",
    "        else:\n",
    "            print(\"Cell already taken. Choose another.\")\n",
    "    except (ValueError, IndexError):\n",
    "        print(\"Invalid input. Choose a number between 1 and 9.\")"
   ]
  },
  {
   "cell_type": "markdown",
   "metadata": {},
   "source": [
    "You can run the above cell in an interactive Python notebook or Jupyter terminal to play the game. Make sure to enable input cells if testing in Google Colab or VS Code Notebook."
   ]
  }
 ],
 "metadata": {
  "kernelspec": {
   "display_name": "Python 3",
   "language": "python",
   "name": "python3"
  },
  "language_info": {
   "name": "python",
   "version": "3.10"
  }
 },
 "nbformat": 4,
 "nbformat_minor": 5
}
