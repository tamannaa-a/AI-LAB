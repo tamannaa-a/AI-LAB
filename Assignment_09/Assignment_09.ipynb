{
 "cells": [
  {
   "cell_type": "markdown",
   "metadata": {},
   "source": [
    "# Robot Traversal Simulation\n",
    "**Name:** Tamanna Vaikkath  \n",
    "**PRN:** 22070521094"
   ]
  },
  {
   "cell_type": "markdown",
   "metadata": {},
   "source": [
    "This notebook simulates a robot moving through a 2D grid from the top-left to bottom-right corner. The robot can move only **right** or **down** at each step. We'll visualize the path taken by the robot."
   ]
  },
  {
   "cell_type": "code",
   "execution_count": null,
   "metadata": {},
   "outputs": [],
   "source": [
    "# Import libraries\n",
    "import matplotlib.pyplot as plt\n",
    "import numpy as np\n",
    "import seaborn as sns"
   ]
  },
  {
   "cell_type": "code",
   "execution_count": null,
   "metadata": {},
   "outputs": [],
   "source": [
    "# Grid dimensions (rows x columns)\n",
    "rows, cols = 6, 6\n",
    "\n",
    "# Create a grid of zeros\n",
    "grid = np.zeros((rows, cols), dtype=int)\n",
    "\n",
    "# Start position\n",
    "x, y = 0, 0\n",
    "grid[x][y] = 1\n",
    "path = [(x, y)]"
   ]
  },
  {
   "cell_type": "markdown",
   "metadata": {},
   "source": [
    "### Robot Movement Logic\n",
    "We'll move the robot towards the goal (bottom-right) by choosing to go **right if possible**, else **down**."
   ]
  },
  {
   "cell_type": "code",
   "execution_count": null,
   "metadata": {},
   "outputs": [],
   "source": [
    "# Move the robot to bottom-right (rows-1, cols-1)\n",
    "while x < rows - 1 or y < cols - 1:\n",
    "    if y < cols - 1:\n",
    "        y += 1\n",
    "    elif x < rows - 1:\n",
    "        x += 1\n",
    "    grid[x][y] = 1\n",
    "    path.append((x, y))"
   ]
  },
  {
   "cell_type": "markdown",
   "metadata": {},
   "source": [
    "### Visualize the Traversed Path"
   ]
  },
  {
   "cell_type": "code",
   "execution_count": null,
   "metadata": {},
   "outputs": [],
   "source": [
    "# Display the path\n",
    "plt.figure(figsize=(6, 6))\n",
    "sns.heatmap(grid, cbar=False, square=True, linewidths=1, linecolor='gray', cmap=\"Blues\", annot=False)\n",
    "\n",
    "# Mark the path\n",
    "for (i, j) in path:\n",
    "    plt.text(j + 0.5, i + 0.5, ha='center', va='center', fontsize=12)\n",
    "\n",
    "plt.title(\"Robot Traversal Path\")\n",
    "plt.gca().invert_yaxis()\n",
    "plt.show()"
   ]
  },
  {
   "cell_type": "markdown",
   "metadata": {},
   "source": [
    "### Output\n",
    "The robot starts at the top-left and reaches the bottom-right corner by traversing right and then down. You can modify the logic to include obstacles or smarter pathfinding like BFS or A*."
   ]
  }
 ],
 "metadata": {
  "kernelspec": {
   "display_name": "Python 3",
   "language": "python",
   "name": "python3"
  },
  "language_info": {
   "name": "python",
   "version": "3.10"
  }
 },
 "nbformat": 4,
 "nbformat_minor": 5
}
